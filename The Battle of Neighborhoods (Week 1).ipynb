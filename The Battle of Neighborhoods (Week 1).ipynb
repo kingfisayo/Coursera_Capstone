{
 "cells": [
  {
   "cell_type": "markdown",
   "metadata": {
    "collapsed": true
   },
   "source": [
    "# The Battle of Neigborhoods (Week 1)"
   ]
  },
  {
   "cell_type": "markdown",
   "metadata": {},
   "source": [
    "## Problem Statement"
   ]
  },
  {
   "cell_type": "markdown",
   "metadata": {},
   "source": [
    "Determining the location to set up a resturant requires several considerations. I have been hired by JJK International, a company based in Toronto to identify the best neighbourhood in Toronto to set up an African Restaurant."
   ]
  },
  {
   "cell_type": "markdown",
   "metadata": {},
   "source": [
    "## Problem Background"
   ]
  },
  {
   "cell_type": "markdown",
   "metadata": {},
   "source": [
    "Toronto is the provincial capital of Ontario and the most populous city in Canada, with a population of 2,954,024 as of July 2018. Current to 2016, the Toronto census metropolitan area (CMA), of which the majority is within the Greater Toronto Area (GTA), held a population of 5,928,040, making it Canada's most populous CMA.<p>\n",
    "    \n",
    "The african population in Toronto has been growing steadily and therefore, this provides a business opportunity. Many africans yearn for their own type of food and are willing to spend money to visit any nearby African Restaurants to purchase african delicacies. <p>\n",
    "    \n",
    "To take advantage of this business opportunity, JJK International has decided to set up an African Restaurant in one of the Neighborhoods in Toronto. However, JJK International is not sure of the best location to set up this African Restaurant and has hired me to identify the best neigbhorhood to set up this African Restaurant."
   ]
  },
  {
   "cell_type": "markdown",
   "metadata": {},
   "source": [
    "## Description of Data and how it will be used to Solve the Problem"
   ]
  },
  {
   "cell_type": "markdown",
   "metadata": {},
   "source": [
    "For the Toronto neighborhood data, a Wikipedia page exists that has all the information which I will need to explore and cluster the neighborhoods in Toronto. The data contains postal code, borough and neighborhood.  I will scrape the Wikipedia page and wrangle the data, clean it, and then read it into a pandas dataframe so that it is in a structured format.<p>\n",
    "    \n",
    "I will convert addresses into their equivalent latitude and longitude values. I will use Foursquare API to explore neighborhoods in Toronto City. I will use the explore function to get the most common venue categories in each neighborhood, and then use this feature to group the neighborhood into clusters using the k-means clustering algorithm. I will visualize the neighbourhoods and their emerging clusters. <p>\n",
    "    \n",
    "Thereafter, I will conduct a profile analysis of the clusters to identify the best neighborhood to set up an African Restaurant.\n"
   ]
  },
  {
   "cell_type": "code",
   "execution_count": null,
   "metadata": {},
   "outputs": [],
   "source": []
  }
 ],
 "metadata": {
  "kernelspec": {
   "display_name": "Python 3.6",
   "language": "python",
   "name": "python3"
  },
  "language_info": {
   "codemirror_mode": {
    "name": "ipython",
    "version": 3
   },
   "file_extension": ".py",
   "mimetype": "text/x-python",
   "name": "python",
   "nbconvert_exporter": "python",
   "pygments_lexer": "ipython3",
   "version": "3.6.9"
  }
 },
 "nbformat": 4,
 "nbformat_minor": 1
}
